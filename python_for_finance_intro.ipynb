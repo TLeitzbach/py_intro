{
 "cells": [
  {
   "metadata": {},
   "cell_type": "markdown",
   "source": "# Python for Finance: An Introduction",
   "id": "2c09959809706709"
  },
  {
   "metadata": {
    "ExecuteTime": {
     "end_time": "2025-10-11T10:35:53.808903Z",
     "start_time": "2025-10-11T10:35:53.807016Z"
    }
   },
   "cell_type": "code",
   "source": [
    "# Let's start with an easter egg in Python\n",
    "import this"
   ],
   "id": "b85026b4768294ec",
   "outputs": [],
   "execution_count": 3
  },
  {
   "metadata": {},
   "cell_type": "markdown",
   "source": "# 1. Data Types, -Structures, and Operators",
   "id": "e4735f4f3d672303"
  },
  {
   "metadata": {},
   "cell_type": "markdown",
   "source": "## Data Types",
   "id": "ac6214b00ce4eb9e"
  },
  {
   "metadata": {
    "ExecuteTime": {
     "end_time": "2025-10-11T10:35:53.825714Z",
     "start_time": "2025-10-11T10:35:53.822511Z"
    }
   },
   "cell_type": "code",
   "source": [
    "x = \"String\"\n",
    "\n",
    "x = 'Also a String'\n",
    "\n",
    "# x = \"Not working'  # Raises SyntaxError\n",
    "\n",
    "\n",
    "x = 2  # No need to indicate a line break with \";\" known from other languages-> x = 2; is the same \n",
    "x = int(2)\n",
    "\n",
    "x = 1.5\n",
    "x = float(1.5)\n",
    "\n",
    "# Conversion with str(), int(), float()\n",
    "\n",
    "\n",
    "x = 10\n",
    "b = \"15\"\n",
    "\n",
    "# x += b  # raises TypeError\n",
    "\n",
    "z = True is False  # Boolean values \n",
    "\n",
    "\"\"\"Operators\"\"\"\n",
    "x += int(b)  # is the same as x = x + int(b)\n",
    "print(x)\n",
    "\n",
    "b += str(x)  # is the same as b = b + str(x)\n",
    "print(b)\n",
    "\n",
    "# print(b)   # Raises IndentationError"
   ],
   "id": "f9d405c1c98339e0",
   "outputs": [
    {
     "name": "stdout",
     "output_type": "stream",
     "text": [
      "25\n",
      "1525\n"
     ]
    }
   ],
   "execution_count": 4
  },
  {
   "metadata": {},
   "cell_type": "markdown",
   "source": "## Data Structures",
   "id": "ac2cc8bdcd25e8c4"
  },
  {
   "metadata": {
    "ExecuteTime": {
     "end_time": "2025-10-11T10:35:53.844912Z",
     "start_time": "2025-10-11T10:35:53.842063Z"
    }
   },
   "cell_type": "code",
   "source": [
    "# Lists\n",
    "list() == []  # Evaluates as True\n",
    "\n",
    "courses = [\"Derivatives 1\", \"Derivatives 3\", \"Modern Methods in Empirical Asset Pricing\"]\n",
    "\n",
    "# indexing\n",
    "print(\"1st: \" + courses[0])  # Index starts at 0!!!\n",
    "print(\"Last: \" + courses[-1])  # last element\n",
    "print(\"All: \" + str(courses[:]))\n",
    "print(\"1st to 2nd: \" + str(courses[0:2]))  # RHS of ':' not included!"
   ],
   "id": "f532ac3e1c762a66",
   "outputs": [
    {
     "name": "stdout",
     "output_type": "stream",
     "text": [
      "1st: Derivatives 1\n",
      "Last: Modern Methods in Empirical Asset Pricing\n",
      "All: ['Derivatives 1', 'Derivatives 3', 'Modern Methods in Empirical Asset Pricing']\n",
      "1st to 2nd: ['Derivatives 1', 'Derivatives 3']\n"
     ]
    }
   ],
   "execution_count": 5
  },
  {
   "metadata": {
    "ExecuteTime": {
     "end_time": "2025-10-11T10:35:53.861079Z",
     "start_time": "2025-10-11T10:35:53.859021Z"
    }
   },
   "cell_type": "code",
   "source": [
    "# Note that a string can be used like a list of characters!\n",
    "\n",
    "model_name = \"CAPM Model\"\n",
    "print(model_name[0:4])  # 0-indexed!"
   ],
   "id": "bc16ed2cd9753e05",
   "outputs": [
    {
     "name": "stdout",
     "output_type": "stream",
     "text": [
      "CAPM\n"
     ]
    }
   ],
   "execution_count": 6
  },
  {
   "metadata": {
    "ExecuteTime": {
     "end_time": "2025-10-11T10:35:53.874015Z",
     "start_time": "2025-10-11T10:35:53.872217Z"
    }
   },
   "cell_type": "code",
   "source": [
    "# modify a given list\n",
    "courses[1] = \"Derivatives 2\"\n",
    "\n",
    "print(courses)"
   ],
   "id": "e396bc71be3aab56",
   "outputs": [
    {
     "name": "stdout",
     "output_type": "stream",
     "text": [
      "['Derivatives 1', 'Derivatives 2', 'Modern Methods in Empirical Asset Pricing']\n"
     ]
    }
   ],
   "execution_count": 7
  },
  {
   "metadata": {
    "ExecuteTime": {
     "end_time": "2025-10-11T10:35:53.895804Z",
     "start_time": "2025-10-11T10:35:53.893912Z"
    }
   },
   "cell_type": "code",
   "source": [
    "# Tuples\n",
    "# similar to lists, but different ...\n",
    "\n",
    "tpl = (\"I am\", 4)  # tuple: A collection which is ordered and immutable. <> list\n",
    "print(tpl[0])\n",
    "\n",
    "# try reassigning an element\n",
    "# tpl[0] = \"You are\"  # raises TypeError"
   ],
   "id": "9e3512d22d5f3e4b",
   "outputs": [
    {
     "name": "stdout",
     "output_type": "stream",
     "text": [
      "I am\n"
     ]
    }
   ],
   "execution_count": 8
  },
  {
   "metadata": {
    "ExecuteTime": {
     "end_time": "2025-10-11T10:35:53.912580Z",
     "start_time": "2025-10-11T10:35:53.910295Z"
    }
   },
   "cell_type": "code",
   "source": [
    "# Dictionaries\n",
    "x = 100\n",
    "\n",
    "\n",
    "def my_function():\n",
    "    print(\"I am a function\")\n",
    "\n",
    "\n",
    "dct = {  # a dictionary saves key value pairs\n",
    "    \"Key1\": \"Value1\",\n",
    "    2:      str,  # functional programming: We can store anything!\n",
    "    5:      x,\n",
    "    \"Key2\": {},  # another dictionary\n",
    "    \"Key4\": my_function,  # a function\n",
    "}\n",
    "\n",
    "print(dct.keys())  # this is a method of the dictionary class also called a 'class method'\n",
    "print(dct.values())  # this is another method"
   ],
   "id": "6613b2fb5ee8e84",
   "outputs": [
    {
     "name": "stdout",
     "output_type": "stream",
     "text": [
      "dict_keys(['Key1', 2, 5, 'Key2', 'Key4'])\n",
      "dict_values(['Value1', <class 'str'>, 100, {}, <function my_function at 0x113de0160>])\n"
     ]
    }
   ],
   "execution_count": 9
  },
  {
   "metadata": {
    "ExecuteTime": {
     "end_time": "2025-10-11T10:35:53.931774Z",
     "start_time": "2025-10-11T10:35:53.928560Z"
    }
   },
   "cell_type": "code",
   "source": [
    "# I am a comment\n",
    "\n",
    "\n",
    "\"\"\"\n",
    "I'm\n",
    "a block (multi-line) comment\n",
    "\"\"\""
   ],
   "id": "b2321126e91c7375",
   "outputs": [
    {
     "data": {
      "text/plain": [
       "\"\\nI'm\\na block (multi-line) comment\\n\""
      ]
     },
     "execution_count": 10,
     "metadata": {},
     "output_type": "execute_result"
    }
   ],
   "execution_count": 10
  },
  {
   "metadata": {
    "ExecuteTime": {
     "end_time": "2025-10-11T10:35:53.939794Z",
     "start_time": "2025-10-11T10:35:53.938171Z"
    }
   },
   "cell_type": "code",
   "source": "print(\"I print to stdout (the console).\")",
   "id": "70c07e5c9f6c0eb7",
   "outputs": [
    {
     "name": "stdout",
     "output_type": "stream",
     "text": [
      "I print to stdout (the console).\n"
     ]
    }
   ],
   "execution_count": 11
  },
  {
   "metadata": {},
   "cell_type": "markdown",
   "source": "# 2. Functions and Classes",
   "id": "cd215e28fe77e611"
  },
  {
   "metadata": {
    "ExecuteTime": {
     "end_time": "2025-10-11T10:35:53.961964Z",
     "start_time": "2025-10-11T10:35:53.959572Z"
    }
   },
   "cell_type": "code",
   "source": [
    "# functions\n",
    "\n",
    "\n",
    "def inner():  # function that does not take an argument\n",
    "    print(\"I am function inner()!\")\n",
    "\n",
    "\n",
    "myfunc = inner  # assigns a function to a variable\n",
    "\n",
    "\n",
    "def outer(function):  # function that takes a function as an argument\n",
    "    function()  # () indicate the call to the function\n",
    "\n",
    "\n",
    "outer(myfunc)  # we pass the variable that stores a reference to the inner \n",
    "# function as an argument to the outer function, e.g. we call outer with the argument myfunc"
   ],
   "id": "5e3eca978397b136",
   "outputs": [
    {
     "name": "stdout",
     "output_type": "stream",
     "text": [
      "I am function inner()!\n"
     ]
    }
   ],
   "execution_count": 12
  },
  {
   "metadata": {
    "ExecuteTime": {
     "end_time": "2025-10-11T10:35:53.979587Z",
     "start_time": "2025-10-11T10:35:53.976816Z"
    }
   },
   "cell_type": "code",
   "source": [
    "# classes\n",
    "\n",
    "\n",
    "class PutOption:\n",
    "    def __init__(self, strike: float, premium: float) -> None:  # constructor method\n",
    "        self.strike = strike  # class instance attribute\n",
    "        self.premium = premium  # class instance attribute\n",
    "\n",
    "    def payoff(self, stock_price: float) -> float:  # class method\n",
    "        \"\"\"Calculate the payoff of the put option at maturity given the stock price.\"\"\"\n",
    "        return max(self.strike - stock_price, 0)\n",
    "\n",
    "\n",
    "put = PutOption(strike=40, premium=1)  # create an instance of the class PutOption\n",
    "print(f\"Put option strike: {put.strike}, premium: {put.premium}\")\n",
    "print(f\"Put option payoff at stock price 42: {put.payoff(42)}\")\n",
    "print(f\"Put option payoff at stock price 38: {put.payoff(38)}\")"
   ],
   "id": "4c3b6f85e85bd927",
   "outputs": [
    {
     "name": "stdout",
     "output_type": "stream",
     "text": [
      "Put option strike: 40, premium: 1\n",
      "Put option payoff at stock price 42: 0\n",
      "Put option payoff at stock price 38: 2\n"
     ]
    }
   ],
   "execution_count": 13
  },
  {
   "metadata": {},
   "cell_type": "markdown",
   "source": "# 3. Conditional Statements",
   "id": "526fa1fca71a2028"
  },
  {
   "metadata": {
    "ExecuteTime": {
     "end_time": "2025-10-11T10:35:53.990015Z",
     "start_time": "2025-10-11T10:35:53.987267Z"
    }
   },
   "cell_type": "code",
   "source": [
    "premium = 1\n",
    "stock_price = 42\n",
    "strike = 40\n",
    "payoff = max(stock_price - strike, 0)  # To what instrument belongs this payoff at maturity?\n",
    "profit = payoff - premium\n",
    "\n",
    "if profit == 0:\n",
    "    print(\"Nothing, really.\")\n",
    "\n",
    "elif profit < 0:\n",
    "    print(\"That went wrong.\")\n",
    "\n",
    "elif 0 <= profit < 16000:\n",
    "    print(\"I spend my Holidays on Hawaii.\")\n",
    "\n",
    "elif 16000 <= profit < 100000:\n",
    "    print(\"Retirement is coming earlier!\")\n",
    "\n",
    "# this statement is never (!) reached\n",
    "elif profit == 1:\n",
    "    pass\n",
    "\n",
    "# e.g. profit > 1000000\n",
    "else:\n",
    "    print(\"I am rich!\")"
   ],
   "id": "5cf1bff498d5074e",
   "outputs": [
    {
     "name": "stdout",
     "output_type": "stream",
     "text": [
      "I spend my Holidays on Hawaii.\n"
     ]
    }
   ],
   "execution_count": 14
  },
  {
   "metadata": {},
   "cell_type": "markdown",
   "source": "# 4. for and while | Loops ",
   "id": "22fc3ae0f2642092"
  },
  {
   "metadata": {
    "ExecuteTime": {
     "end_time": "2025-10-11T10:35:54.010483Z",
     "start_time": "2025-10-11T10:35:54.008602Z"
    }
   },
   "cell_type": "code",
   "source": [
    "for p in (.5, 1.2, 3):\n",
    "    print(f\"The put option's price is: {p}\\n\")"
   ],
   "id": "f12c62cd8392608c",
   "outputs": [
    {
     "name": "stdout",
     "output_type": "stream",
     "text": [
      "The put option's price is: 0.5\n",
      "\n",
      "The put option's price is: 1.2\n",
      "\n",
      "The put option's price is: 3\n",
      "\n"
     ]
    }
   ],
   "execution_count": 15
  },
  {
   "metadata": {
    "ExecuteTime": {
     "end_time": "2025-10-11T10:35:54.023812Z",
     "start_time": "2025-10-11T10:35:54.021762Z"
    }
   },
   "cell_type": "code",
   "source": [
    "\"\"\"while-loop\"\"\"\n",
    "\n",
    "counter = 10\n",
    "\n",
    "while counter > 0:\n",
    "    print(f\"Oh man, still {counter - 1} iterations to go ...\")\n",
    "    counter -= 1  # important to ensure that the loop ends == a terminal condition is met\n"
   ],
   "id": "ddaf37205ccde1ff",
   "outputs": [
    {
     "name": "stdout",
     "output_type": "stream",
     "text": [
      "Oh man, still 9 iterations to go ...\n",
      "Oh man, still 8 iterations to go ...\n",
      "Oh man, still 7 iterations to go ...\n",
      "Oh man, still 6 iterations to go ...\n",
      "Oh man, still 5 iterations to go ...\n",
      "Oh man, still 4 iterations to go ...\n",
      "Oh man, still 3 iterations to go ...\n",
      "Oh man, still 2 iterations to go ...\n",
      "Oh man, still 1 iterations to go ...\n",
      "Oh man, still 0 iterations to go ...\n"
     ]
    }
   ],
   "execution_count": 16
  },
  {
   "metadata": {},
   "cell_type": "markdown",
   "source": "# 5. Errors, Traceback, and Exceptions",
   "id": "d33701ce6a0aeae7"
  },
  {
   "metadata": {
    "ExecuteTime": {
     "end_time": "2025-10-11T10:35:54.057514Z",
     "start_time": "2025-10-11T10:35:54.055892Z"
    }
   },
   "cell_type": "code",
   "source": [
    "# SyntaxError\n",
    "# print(\"Hello World'  # Raises SyntaxError\n",
    "\n",
    "# KeyError\n",
    "# d = {}\n",
    "# print(d[\"non_existing_key\"])  # Raises KeyError\n",
    "\n",
    "# IndexError\n",
    "# lst = []\n",
    "# print(lst[1])  # Raises IndexError\n",
    "\n",
    "# TypeError\n",
    "# x = 5 + \"10\"  # Raises TypeError\n",
    "\n",
    "# ValueError\n",
    "# int(\"Not a number\")  # Raises ValueError"
   ],
   "id": "966133f7dd673e0b",
   "outputs": [],
   "execution_count": 17
  },
  {
   "metadata": {
    "ExecuteTime": {
     "end_time": "2025-10-11T10:35:54.065512Z",
     "start_time": "2025-10-11T10:35:54.063372Z"
    }
   },
   "cell_type": "code",
   "source": [
    "y = 20\n",
    "x = 0\n",
    "\n",
    "try:\n",
    "    z = y / x\n",
    "\n",
    "except ZeroDivisionError as e:\n",
    "    print(\"You tried to divide by zero!\")\n",
    "\n",
    "except TypeError as e:\n",
    "    raise e\n",
    "\n",
    "except Exception as e:  # catch all other exceptions, generally speaking bad practice!\n",
    "    pass  # same as 'do nothing', bad practice!\n",
    "\n",
    "else:\n",
    "    print(\"No error occurred!\")\n",
    "\n",
    "finally:\n",
    "    print(\"This is always executed.\")"
   ],
   "id": "8bd2355e499023e2",
   "outputs": [
    {
     "name": "stdout",
     "output_type": "stream",
     "text": [
      "You tried to divide by zero!\n",
      "This is always executed.\n"
     ]
    }
   ],
   "execution_count": 18
  },
  {
   "metadata": {},
   "cell_type": "markdown",
   "source": "# 6. Packges and Modules\n",
   "id": "fa6a68be5e55534a"
  },
  {
   "metadata": {
    "ExecuteTime": {
     "end_time": "2025-10-11T10:35:54.074549Z",
     "start_time": "2025-10-11T10:35:54.072811Z"
    }
   },
   "cell_type": "code",
   "source": [
    "import requests  # importing a package\n",
    "import numpy as np  # assigning an alias to a package\n",
    "import pandas as pd\n",
    "from matplotlib import pyplot as plt  # importing only a submodule and assigning an alias"
   ],
   "id": "6dcfbbb53396b6ba",
   "outputs": [],
   "execution_count": 19
  },
  {
   "metadata": {},
   "cell_type": "markdown",
   "source": "## Loading Data with 'pandas' and 'requests'",
   "id": "343eb6413ea66bf9"
  },
  {
   "metadata": {
    "ExecuteTime": {
     "end_time": "2025-10-11T10:35:56.407546Z",
     "start_time": "2025-10-11T10:35:54.081128Z"
    }
   },
   "cell_type": "code",
   "source": [
    "# using the packages\n",
    "\n",
    "# reading data from a csv file with pandas\n",
    "# consult the package documentation for details: https://pandas.pydata.org/docs/reference/api/pandas.read_csv.html\n",
    "coin_prices = pd.read_csv(\"data/coin_prices.csv\", parse_dates=['time'])\n",
    "print(coin_prices.head())  # pandas creates a very user-friendly pd.DataFrame object which we can take a look at\n",
    "print(coin_prices.dtypes)"
   ],
   "id": "90ab0ba092407774",
   "outputs": [
    {
     "name": "stdout",
     "output_type": "stream",
     "text": [
      "  asset                      time  ReferenceRateBTC  ReferenceRateUSD\n",
      "0  1cat 2023-12-24 00:00:00+00:00      1.402487e-07          0.006139\n",
      "1  1cat 2023-12-25 00:00:00+00:00      1.383337e-07          0.005962\n",
      "2  1cat 2023-12-26 00:00:00+00:00      1.710248e-07          0.007461\n",
      "3  1cat 2023-12-27 00:00:00+00:00      2.404060e-07          0.010215\n",
      "4  1cat 2023-12-28 00:00:00+00:00      3.641050e-07          0.015816\n",
      "asset                            object\n",
      "time                datetime64[ns, UTC]\n",
      "ReferenceRateBTC                float64\n",
      "ReferenceRateUSD                float64\n",
      "dtype: object\n"
     ]
    }
   ],
   "execution_count": 20
  },
  {
   "metadata": {
    "ExecuteTime": {
     "end_time": "2025-10-11T10:35:58.238475Z",
     "start_time": "2025-10-11T10:35:56.414544Z"
    }
   },
   "cell_type": "code",
   "source": [
    "# reading csv data from a web address (Google Drive) from the authors of https://www.openassetpricing.com/\n",
    "# https://drive.google.com/drive/folders/1o74QkDfUfeaDmdE73nJvMQ5vDB5RY-7Y  # public folder, the file id is for \"Size.csv\" \n",
    "os_ap = pd.read_csv(\n",
    "    'https://drive.google.com/uc?id=1Jp0YRCu8KIVae_3-GGscxgY1lB50WMu-',\n",
    "    index_col='date',  # make column 'date' the index\n",
    "    delimiter=',',\n",
    "    skiprows=0,  # default value\n",
    "    usecols=range(1, 5 + 1)  # first 5 columns only\n",
    ")\n",
    "print(os_ap.head())"
   ],
   "id": "69959d6c93258886",
   "outputs": [
    {
     "name": "stdout",
     "output_type": "stream",
     "text": [
      "              port01    port02    port03    port04\n",
      "date                                              \n",
      "1926-07-31  3.617949  1.753725  1.578227  1.241819\n",
      "1926-08-31  3.041769  1.461203  3.780283  3.185613\n",
      "1926-09-30  0.866694 -0.116875  0.235275 -1.056190\n",
      "1926-10-30 -2.894774 -2.652046 -2.422875 -4.115258\n",
      "1926-11-30  2.764140  3.255669  3.415442  2.826260\n"
     ]
    }
   ],
   "execution_count": 21
  },
  {
   "metadata": {
    "ExecuteTime": {
     "end_time": "2025-10-11T10:35:58.377397Z",
     "start_time": "2025-10-11T10:35:58.256926Z"
    }
   },
   "cell_type": "code",
   "source": [
    "params = {\n",
    "    'markets':     ['deribit-BTC-11OCT25-114000-C-option'],\n",
    "    'pretty':      True,\n",
    "    'start_time':  '2020-01-01',\n",
    "    'paging_from': 'start',\n",
    "}\n",
    "# https://coverage.coinmetrics.io/markets-v2/deribit-BTC-11OCT25-114000-C-option\n",
    "response = requests.get(\n",
    "    'https://community-api.coinmetrics.io/v4/timeseries/market-contract-prices',\n",
    "    params=params\n",
    ").json()\n",
    "call_prices = pd.DataFrame(response['data'])\n",
    "print(call_prices.head())\n",
    "print(call_prices.dtypes)\n",
    "\n",
    "cols = ['mark_price', 'index_price', 'settlement_price_estimated']\n",
    "date_cols = ['time', 'database_time', 'exchange_time']\n",
    "call_prices[cols] = call_prices[cols].apply(pd.to_numeric)  # convert to numeric type\n",
    "call_prices[date_cols] = call_prices[date_cols].apply(pd.to_datetime)  # convert to datetime objects\n",
    "print(call_prices.dtypes)"
   ],
   "id": "b61986b719d0354d",
   "outputs": [
    {
     "name": "stdout",
     "output_type": "stream",
     "text": [
      "                                market                            time  \\\n",
      "0  deribit-BTC-11OCT25-114000-C-option  2025-10-10T10:36:00.000000000Z   \n",
      "1  deribit-BTC-11OCT25-114000-C-option  2025-10-10T10:37:00.000000000Z   \n",
      "2  deribit-BTC-11OCT25-114000-C-option  2025-10-10T10:38:00.000000000Z   \n",
      "3  deribit-BTC-11OCT25-114000-C-option  2025-10-10T10:39:00.000000000Z   \n",
      "4  deribit-BTC-11OCT25-114000-C-option  2025-10-10T10:40:00.000000000Z   \n",
      "\n",
      "                    database_time mark_price index_price  \\\n",
      "0  2025-10-10T10:36:02.991037000Z     0.0606   121290.32   \n",
      "1  2025-10-10T10:37:03.028956000Z     0.0607   121302.79   \n",
      "2  2025-10-10T10:38:04.148300000Z     0.0608   121320.78   \n",
      "3  2025-10-10T10:39:04.181111000Z     0.0611   121359.72   \n",
      "4  2025-10-10T10:40:03.218951000Z     0.0607   121312.98   \n",
      "\n",
      "  settlement_price_estimated                   exchange_time  \n",
      "0                  121290.32  2025-10-10T10:36:02.519000000Z  \n",
      "1                  121302.79  2025-10-10T10:37:01.828000000Z  \n",
      "2                  121320.78  2025-10-10T10:38:02.358000000Z  \n",
      "3                  121359.72  2025-10-10T10:39:02.785000000Z  \n",
      "4                  121312.98  2025-10-10T10:40:02.021000000Z  \n",
      "market                        object\n",
      "time                          object\n",
      "database_time                 object\n",
      "mark_price                    object\n",
      "index_price                   object\n",
      "settlement_price_estimated    object\n",
      "exchange_time                 object\n",
      "dtype: object\n",
      "market                                     object\n",
      "time                          datetime64[ns, UTC]\n",
      "database_time                 datetime64[ns, UTC]\n",
      "mark_price                                float64\n",
      "index_price                               float64\n",
      "settlement_price_estimated                float64\n",
      "exchange_time                 datetime64[ns, UTC]\n",
      "dtype: object\n"
     ]
    }
   ],
   "execution_count": 22
  },
  {
   "metadata": {},
   "cell_type": "markdown",
   "source": "## Simple matrix operations with 'numpy'",
   "id": "a708a1663dd9228d"
  },
  {
   "metadata": {},
   "cell_type": "markdown",
   "source": [
    "In quantitative finance, efficient numerical computation is essential. Whether we’re pricing derivatives, estimating risk, or backtesting trading strategies, we often deal with large datasets — prices, returns, or factor exposures — that must be processed quickly. This is where NumPy becomes indispensable.\n",
    "\n",
    "NumPy provides the ndarray, a powerful data structure for numerical operations. Unlike standard Python lists, NumPy arrays are homogeneous and vectorized, meaning operations are executed in compiled C code rather than interpreted Python loops. This leads to massive performance gains, often orders of magnitude faster.\n"
   ],
   "id": "fbabc102978d30d1"
  },
  {
   "metadata": {
    "ExecuteTime": {
     "end_time": "2025-10-11T10:35:58.392960Z",
     "start_time": "2025-10-11T10:35:58.390982Z"
    }
   },
   "cell_type": "code",
   "source": [
    "# simple one-dimensional price vector for a single asset\n",
    "prices = np.array([100, 102, 101, 105])"
   ],
   "id": "959fd0cf9ad01089",
   "outputs": [],
   "execution_count": 23
  },
  {
   "metadata": {
    "ExecuteTime": {
     "end_time": "2025-10-11T10:35:58.405129Z",
     "start_time": "2025-10-11T10:35:58.403244Z"
    }
   },
   "cell_type": "code",
   "source": [
    "# random data for simulations\n",
    "returns = np.random.normal(0, 0.01, size=1000)"
   ],
   "id": "c758f861aa4183c5",
   "outputs": [],
   "execution_count": 24
  },
  {
   "metadata": {
    "ExecuteTime": {
     "end_time": "2025-10-11T10:35:58.416874Z",
     "start_time": "2025-10-11T10:35:58.414680Z"
    }
   },
   "cell_type": "code",
   "source": [
    "# Arrays can represent vectors, matrices, or higher-dimensional data. For instance, daily prices for 5 assets can be stored as a 2D matrix:\n",
    "# random samples stem from a uniform distribution\n",
    "price_matrix = np.random.rand(252, 5) * 100  # 252 days, 5 assets\n",
    "print(price_matrix)"
   ],
   "id": "a77182cac5020809",
   "outputs": [
    {
     "name": "stdout",
     "output_type": "stream",
     "text": [
      "[[1.66664914e-02 7.67785410e+00 3.04994752e+01 3.04168575e+01\n",
      "  1.32374089e+01]\n",
      " [2.09388314e+01 4.91737073e+01 2.11871143e+01 8.06235158e+01\n",
      "  6.54090315e+01]\n",
      " [5.98988247e+01 6.19900674e+01 7.14490554e+01 9.62870747e+01\n",
      "  3.52700833e+01]\n",
      " ...\n",
      " [1.02035015e+01 2.04883254e-01 2.01246693e+01 8.49341284e+01\n",
      "  8.89626548e+01]\n",
      " [6.43055835e+01 3.95490932e+01 8.91217495e+01 7.71322219e+01\n",
      "  9.93727494e+01]\n",
      " [2.41039547e+01 3.66487938e+01 3.48852610e+01 4.83308720e+01\n",
      "  7.13648749e+01]]\n"
     ]
    }
   ],
   "execution_count": 25
  },
  {
   "metadata": {
    "ExecuteTime": {
     "end_time": "2025-10-11T10:35:58.431726Z",
     "start_time": "2025-10-11T10:35:58.429877Z"
    }
   },
   "cell_type": "code",
   "source": [
    "# We can then compute daily returns efficiently\n",
    "returns = price_matrix[1:] / price_matrix[:-1] - 1\n",
    "print(returns)"
   ],
   "id": "686e770a974343ab",
   "outputs": [
    {
     "name": "stdout",
     "output_type": "stream",
     "text": [
      "[[ 1.25534310e+03  5.40461602e+00 -3.05328561e-01  1.65061950e+00\n",
      "   3.94122619e+00]\n",
      " [ 1.86065748e+00  2.60634408e-01  2.37228819e+00  1.94280275e-01\n",
      "  -4.60776555e-01]\n",
      " [-5.87229454e-01 -5.77531809e-02 -4.05778330e-01 -4.77983505e-01\n",
      "   8.11704500e-01]\n",
      " ...\n",
      " [-8.62767754e-01 -9.97287644e-01 -7.58248774e-01  1.01682452e+00\n",
      "   1.40473859e+00]\n",
      " [ 5.30230546e+00  1.92032336e+02  3.42848267e+00 -9.18583226e-02\n",
      "   1.17016457e-01]\n",
      " [-6.25165445e-01 -7.33341568e-02 -6.08566245e-01 -3.73402311e-01\n",
      "  -2.81846630e-01]]\n"
     ]
    }
   ],
   "execution_count": 26
  },
  {
   "metadata": {
    "ExecuteTime": {
     "end_time": "2025-10-11T10:35:58.445417Z",
     "start_time": "2025-10-11T10:35:58.443154Z"
    }
   },
   "cell_type": "code",
   "source": [
    "# Notice there are no explicit loops — NumPy broadcasts operations across entire arrays. This is the foundation for portfolio-level computations like covariance matrices, betas, or portfolio variance:\n",
    "weights = np.array([0.2, 0.2, 0.2, 0.2, 0.2])  # equal weights\n",
    "cov_matrix = np.cov(returns.T)\n",
    "portfolio_var = weights.T @ cov_matrix @ weights\n",
    "print(f'portfolio variance: {portfolio_var}')"
   ],
   "id": "a3abcb877ed9c3d4",
   "outputs": [
    {
     "name": "stdout",
     "output_type": "stream",
     "text": [
      "portfolio variance: 1463.3165873964838\n"
     ]
    }
   ],
   "execution_count": 27
  },
  {
   "metadata": {},
   "cell_type": "markdown",
   "source": [
    "Find replication portfolio weights given asset prices p and state-contingent payoffs A<br>\n",
    "$w = A^{-1} p$ such that<br>\n",
    "$A w = y$"
   ],
   "id": "aaf274e1df017c94"
  },
  {
   "metadata": {
    "ExecuteTime": {
     "end_time": "2025-10-11T10:35:58.458915Z",
     "start_time": "2025-10-11T10:35:58.454983Z"
    }
   },
   "cell_type": "code",
   "source": [
    "# Example: 3 states, 3 assets\n",
    "A = np.array(\n",
    "    [\n",
    "        [1.05, 0.0, 0.0],  # Asset payoffs in state 1\n",
    "        [1.05, 1.0, 0.5],  # Asset payoffs in state 2\n",
    "        [1.05, 0.5, 1.0]  # Asset payoffs in state 3\n",
    "    ]\n",
    ")  # shape (3,3)\n",
    "\n",
    "p = np.array([1, 0.90, 0.95])  # asset prices\n",
    "y = np.array([1.05, 1.3, 1.2])  # desired state payoff vector (e.g., payoff=1 in state1 only)\n",
    "\n",
    "# 1) Exact replication (if A is square and invertible)\n",
    "if A.shape[0] == A.shape[1] and np.linalg.matrix_rank(A) == A.shape[0]:\n",
    "    w_exact = np.linalg.inv(A) @ y\n",
    "    cost_exact = p @ w_exact\n",
    "    print(\"Exact replication weights:\", w_exact)\n",
    "    print(\"Cost (exact):\", cost_exact)\n",
    "else:\n",
    "    print(\"Exact replication not available (A not square/full-rank).\")\n",
    "\n",
    "# 2) Least-squares / pseudoinverse (minimum-norm solution that best matches y, say more states than assets)\n",
    "w_pinv = np.linalg.pinv(A) @ y\n",
    "residual = A @ w_pinv - y\n",
    "cost_pinv = p @ w_pinv\n",
    "print(\"\\nPseudoinverse (least-squares) weights:\", w_pinv)\n",
    "print(\"Residual (A w - y):\", residual)\n",
    "print(\"Cost (p @ w):\", cost_pinv)"
   ],
   "id": "e885a944871ee8df",
   "outputs": [
    {
     "name": "stdout",
     "output_type": "stream",
     "text": [
      "Exact replication weights: [1.         0.23333333 0.03333333]\n",
      "Cost (exact): 1.2416666666666665\n",
      "\n",
      "Pseudoinverse (least-squares) weights: [1.         0.23333333 0.03333333]\n",
      "Residual (A w - y): [ 6.66133815e-16 -2.22044605e-16 -2.22044605e-16]\n",
      "Cost (p @ w): 1.2416666666666663\n"
     ]
    }
   ],
   "execution_count": 28
  },
  {
   "metadata": {},
   "cell_type": "markdown",
   "source": "Some more methods and operations with numpy:",
   "id": "cf18bc581c36d772"
  },
  {
   "metadata": {
    "ExecuteTime": {
     "end_time": "2025-10-11T10:35:58.476481Z",
     "start_time": "2025-10-11T10:35:58.473460Z"
    }
   },
   "cell_type": "code",
   "source": [
    "A = np.array([[1, 2], [3, 4]])\n",
    "b = np.array([[1, 2], [3, 4]])\n",
    "\n",
    "np.zeros((2, 3))  # 2 rows, 3 columns\n",
    "np.identity(3)  # 3x3 identity matrix\n",
    "np.diag([1, 2, 3])  # diagonal matrix with 1,2,3 on the diagonal\n",
    "\n",
    "print(A + b)  # matrix addition\n",
    "print(A * b)  # element-wise multiplication\n",
    "print(A @ b)  # matrix multiplication\n",
    "print(np.linalg.inv(A))  # matrix inversion\n",
    "print(np.linalg.det(A))  # determinant"
   ],
   "id": "13ba8a90ef82cd0",
   "outputs": [
    {
     "name": "stdout",
     "output_type": "stream",
     "text": [
      "[[2 4]\n",
      " [6 8]]\n",
      "[[ 1  4]\n",
      " [ 9 16]]\n",
      "[[ 7 10]\n",
      " [15 22]]\n",
      "[[-2.   1. ]\n",
      " [ 1.5 -0.5]]\n",
      "-2.0000000000000004\n"
     ]
    }
   ],
   "execution_count": 29
  },
  {
   "metadata": {},
   "cell_type": "markdown",
   "source": "## Visualizations with 'matplotlib'",
   "id": "57dc0e3fcb6c2032"
  },
  {
   "metadata": {
    "ExecuteTime": {
     "end_time": "2025-10-11T10:35:58.606461Z",
     "start_time": "2025-10-11T10:35:58.485956Z"
    }
   },
   "cell_type": "code",
   "source": "call_prices.set_index('time')['mark_price'].plot(title='Call Option Prices over Time')",
   "id": "e873101e0153d1a9",
   "outputs": [
    {
     "data": {
      "text/plain": [
       "<Axes: title={'center': 'Call Option Prices over Time'}, xlabel='time'>"
      ]
     },
     "execution_count": 30,
     "metadata": {},
     "output_type": "execute_result"
    },
    {
     "data": {
      "text/plain": [
       "<Figure size 640x480 with 1 Axes>"
      ],
      "image/png": "[encoded data removed]"
     },
     "metadata": {},
     "output_type": "display_data"
    }
   ],
   "execution_count": 30
  },
  {
   "metadata": {
    "ExecuteTime": {
     "end_time": "2025-10-11T10:35:58.966676Z",
     "start_time": "2025-10-11T10:35:58.615490Z"
    }
   },
   "cell_type": "code",
   "source": [
    "# Plot multiple time series\n",
    "coins = ['btc', 'eth', 'ltc', 'xrp']\n",
    "cprice = coin_prices.pivot(\n",
    "        index='time', values='ReferenceRateUSD', columns='asset'\n",
    "    )[coins]\n",
    "lines = plt.plot(cprice)\n",
    "plt.title('Cryptocurrency Prices over Time')\n",
    "plt.ylabel('USD Price')\n",
    "plt.legend(coins)\n",
    "plt.grid()"
   ],
   "id": "af42052968772dd2",
   "outputs": [
    {
     "data": {
      "text/plain": [
       "<Figure size 640x480 with 1 Axes>"
      ],
      "image/png": "[encoded data removed]"
     },
     "metadata": {},
     "output_type": "display_data"
    }
   ],
   "execution_count": 31
  },
  {
   "metadata": {
    "ExecuteTime": {
     "end_time": "2025-10-11T10:35:59.087841Z",
     "start_time": "2025-10-11T10:35:58.976985Z"
    }
   },
   "cell_type": "code",
   "source": [
    "# Creating a Figure with subplots and axes\n",
    "fig, axs = plt.subplots(ncols=2, nrows=2, figsize=(10, 6))"
   ],
   "id": "f5a9261d9497d2e2",
   "outputs": [
    {
     "data": {
      "text/plain": [
       "<Figure size 1000x600 with 4 Axes>"
      ],
      "image/png": "[encoded data removed]"
     },
     "metadata": {},
     "output_type": "display_data"
    }
   ],
   "execution_count": 32
  },
  {
   "metadata": {
    "ExecuteTime": {
     "end_time": "2025-10-11T11:36:32.949714Z",
     "start_time": "2025-10-11T11:36:32.929071Z"
    }
   },
   "cell_type": "code",
   "source": [
    "# access and fill the subplots ...\n",
    "z = 1 ** -2 / 0"
   ],
   "id": "4ac136f846a13dac",
   "outputs": [
    {
     "ename": "ZeroDivisionError",
     "evalue": "float division by zero",
     "output_type": "error",
     "traceback": [
      "\u001B[0;31m---------------------------------------------------------------------------\u001B[0m",
      "\u001B[0;31mZeroDivisionError\u001B[0m                         Traceback (most recent call last)",
      "Cell \u001B[0;32mIn[38], line 2\u001B[0m\n\u001B[1;32m      1\u001B[0m \u001B[38;5;66;03m# access and fill the subplots ...\u001B[39;00m\n\u001B[0;32m----> 2\u001B[0m z \u001B[38;5;241m=\u001B[39m \u001B[38;5;241;43m1\u001B[39;49m\u001B[43m \u001B[49m\u001B[38;5;241;43m*\u001B[39;49m\u001B[38;5;241;43m*\u001B[39;49m\u001B[43m \u001B[49m\u001B[38;5;241;43m-\u001B[39;49m\u001B[38;5;241;43m2\u001B[39;49m\u001B[43m \u001B[49m\u001B[38;5;241;43m/\u001B[39;49m\u001B[43m \u001B[49m\u001B[38;5;241;43m0\u001B[39;49m\n",
      "\u001B[0;31mZeroDivisionError\u001B[0m: float division by zero"
     ]
    }
   ],
   "execution_count": 38
  },
  {
   "metadata": {},
   "cell_type": "markdown",
   "source": "There are many options that can be explored! Consider the examples in the gallery: https://matplotlib.org/stable/gallery/index.html",
   "id": "9deb0cd5bf44fcc9"
  }
 ],
 "metadata": {
  "kernelspec": {
   "display_name": "Python 3",
   "language": "python",
   "name": "python3"
  },
  "language_info": {
   "codemirror_mode": {
    "name": "ipython",
    "version": 2
   },
   "file_extension": ".py",
   "mimetype": "text/x-python",
   "name": "python",
   "nbconvert_exporter": "python",
   "pygments_lexer": "ipython2",
   "version": "2.7.6"
  }
 },
 "nbformat": 4,
 "nbformat_minor": 5
}
