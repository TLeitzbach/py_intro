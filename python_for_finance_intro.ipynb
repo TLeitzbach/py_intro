{
 "cells": [
  {
   "metadata": {},
   "cell_type": "markdown",
   "source": "# Python for Finance: An Introduction",
   "id": "2c09959809706709"
  },
  {
   "metadata": {},
   "cell_type": "code",
   "source": [
    "# Let's start with an easter egg in Python\n",
    "import this"
   ],
   "id": "b85026b4768294ec",
   "outputs": [],
   "execution_count": null
  },
  {
   "metadata": {},
   "cell_type": "markdown",
   "source": "# 1. Data Types, -Structures, and Operators",
   "id": "e4735f4f3d672303"
  },
  {
   "metadata": {},
   "cell_type": "markdown",
   "source": "## Data Types",
   "id": "ac6214b00ce4eb9e"
  },
  {
   "metadata": {},
   "cell_type": "code",
   "source": [
    "x = \"String\"\n",
    "\n",
    "x = 'Also a String'\n",
    "\n",
    "# x = \"Not working'  # Raises SyntaxError\n",
    "\n",
    "\n",
    "x = 2  # No need to indicate a line break with \";\" known from other languages-> x = 2; is the same \n",
    "x = int(2)\n",
    "\n",
    "x = 1.5\n",
    "x = float(1.5)\n",
    "\n",
    "# Conversion with str(), int(), float()\n",
    "\n",
    "\n",
    "x = 10\n",
    "b = \"15\"\n",
    "\n",
    "# x += b  # raises TypeError\n",
    "\n",
    "z = True is False  # Boolean values \n",
    "\n",
    "\"\"\"Operators\"\"\"\n",
    "x += int(b)  # is the same as x = x + int(b)\n",
    "print(x)\n",
    "\n",
    "b += str(x)  # is the same as b = b + str(x)\n",
    "print(b)\n",
    "\n",
    "# print(b)   # Raises IndentationError"
   ],
   "id": "f9d405c1c98339e0",
   "outputs": [],
   "execution_count": null
  },
  {
   "metadata": {},
   "cell_type": "markdown",
   "source": "## Data Structures",
   "id": "ac2cc8bdcd25e8c4"
  },
  {
   "metadata": {},
   "cell_type": "code",
   "source": [
    "# Lists\n",
    "list() == []  # Evaluates as True\n",
    "\n",
    "courses = [\"Derivatives 1\", \"Derivatives 3\", \"Modern Methods in Empirical Asset Pricing\"]\n",
    "\n",
    "# indexing\n",
    "print(\"1st: \" + courses[0])  # Index starts at 0!!!\n",
    "print(\"Last: \" + courses[-1])  # last element\n",
    "print(\"All: \" + str(courses[:]))\n",
    "print(\"1st to 2nd: \" + str(courses[0:2]))  # RHS of ':' not included!"
   ],
   "id": "f532ac3e1c762a66",
   "outputs": [],
   "execution_count": null
  },
  {
   "metadata": {},
   "cell_type": "code",
   "source": [
    "# Note that a string can be used like a list of characters!\n",
    "\n",
    "model_name = \"CAPM Model\"\n",
    "print(model_name[0:4])  # 0-indexed!"
   ],
   "id": "bc16ed2cd9753e05",
   "outputs": [],
   "execution_count": null
  },
  {
   "metadata": {},
   "cell_type": "code",
   "source": [
    "# modify a given list\n",
    "courses[1] = \"Derivatives 2\"\n",
    "\n",
    "print(courses)"
   ],
   "id": "e396bc71be3aab56",
   "outputs": [],
   "execution_count": null
  },
  {
   "metadata": {},
   "cell_type": "code",
   "source": [
    "# Tuples\n",
    "# similar to lists, but different ...\n",
    "\n",
    "tpl = (\"I am\", 4)  # tuple: A collection which is ordered and immutable. <> list\n",
    "print(tpl[0])\n",
    "\n",
    "# try reassigning an element\n",
    "# tpl[0] = \"You are\"  # raises TypeError"
   ],
   "id": "9e3512d22d5f3e4b",
   "outputs": [],
   "execution_count": null
  },
  {
   "metadata": {},
   "cell_type": "code",
   "source": [
    "# Dictionaries\n",
    "x = 100\n",
    "\n",
    "\n",
    "def my_function():\n",
    "    print(\"I am a function\")\n",
    "\n",
    "\n",
    "dct = {  # a dictionary saves key value pairs\n",
    "    \"Key1\": \"Value1\",\n",
    "    2:      str,  # functional programming: We can store anything!\n",
    "    5:      x,\n",
    "    \"Key2\": {},  # another dictionary\n",
    "    \"Key4\": my_function,  # a function\n",
    "}\n",
    "\n",
    "print(dct.keys())  # this is a method of the dictionary class also called a 'class method'\n",
    "print(dct.values())  # this is another method"
   ],
   "id": "6613b2fb5ee8e84",
   "outputs": [],
   "execution_count": null
  },
  {
   "metadata": {},
   "cell_type": "code",
   "source": [
    "# I am a comment\n",
    "\n",
    "\n",
    "\"\"\"\n",
    "I'm\n",
    "a block (multi-line) comment\n",
    "\"\"\""
   ],
   "id": "b2321126e91c7375",
   "outputs": [],
   "execution_count": null
  },
  {
   "metadata": {},
   "cell_type": "code",
   "source": "print(\"I print to stdout (the console).\")",
   "id": "70c07e5c9f6c0eb7",
   "outputs": [],
   "execution_count": null
  },
  {
   "metadata": {},
   "cell_type": "markdown",
   "source": "# 2. Functions and Classes",
   "id": "cd215e28fe77e611"
  },
  {
   "metadata": {},
   "cell_type": "code",
   "source": [
    "# functions\n",
    "\n",
    "\n",
    "def inner():  # function that does not take an argument\n",
    "    print(\"I am function inner()!\")\n",
    "\n",
    "\n",
    "myfunc = inner  # assigns a function to a variable\n",
    "\n",
    "\n",
    "def outer(function):  # function that takes a function as an argument\n",
    "    function()  # () indicate the call to the function\n",
    "\n",
    "\n",
    "outer(myfunc)  # we pass the variable that stores a reference to the inner \n",
    "# function as an argument to the outer function, e.g. we call outer with the argument myfunc"
   ],
   "id": "5e3eca978397b136",
   "outputs": [],
   "execution_count": null
  },
  {
   "metadata": {},
   "cell_type": "code",
   "source": [
    "# classes\n",
    "\n",
    "\n",
    "class PutOption:\n",
    "    def __init__(self, strike: float, premium: float) -> None:  # constructor method\n",
    "        self.strike = strike  # class instance attribute\n",
    "        self.premium = premium  # class instance attribute\n",
    "\n",
    "    def payoff(self, stock_price: float) -> float:  # class method\n",
    "        \"\"\"Calculate the payoff of the put option at maturity given the stock price.\"\"\"\n",
    "        return max(self.strike - stock_price, 0)\n",
    "\n",
    "\n",
    "put = PutOption(strike=40, premium=1)  # create an instance of the class PutOption\n",
    "print(f\"Put option strike: {put.strike}, premium: {put.premium}\")\n",
    "print(f\"Put option payoff at stock price 42: {put.payoff(42)}\")\n",
    "print(f\"Put option payoff at stock price 38: {put.payoff(38)}\")"
   ],
   "id": "4c3b6f85e85bd927",
   "outputs": [],
   "execution_count": null
  },
  {
   "metadata": {},
   "cell_type": "markdown",
   "source": "# 3. Conditional Statements",
   "id": "526fa1fca71a2028"
  },
  {
   "metadata": {},
   "cell_type": "code",
   "source": [
    "premium = 1\n",
    "stock_price = 42\n",
    "strike = 40\n",
    "payoff = max(stock_price - strike, 0)  # To what instrument belongs this payoff at maturity?\n",
    "profit = payoff - premium\n",
    "\n",
    "if profit == 0:\n",
    "    print(\"Nothing, really.\")\n",
    "\n",
    "elif profit < 0:\n",
    "    print(\"That went wrong.\")\n",
    "\n",
    "elif 0 <= profit < 16000:\n",
    "    print(\"I spend my Holidays on Hawaii.\")\n",
    "\n",
    "elif 16000 <= profit < 100000:\n",
    "    print(\"Retirement is coming earlier!\")\n",
    "\n",
    "# this statement is never (!) reached\n",
    "elif profit == 1:\n",
    "    pass\n",
    "\n",
    "# e.g. profit > 1000000\n",
    "else:\n",
    "    print(\"I am rich!\")"
   ],
   "id": "5cf1bff498d5074e",
   "outputs": [],
   "execution_count": null
  },
  {
   "metadata": {},
   "cell_type": "markdown",
   "source": "# 4. for and while | Loops ",
   "id": "22fc3ae0f2642092"
  },
  {
   "metadata": {},
   "cell_type": "code",
   "source": [
    "for p in (.5, 1.2, 3):\n",
    "    print(f\"The put option's price is: {p}\\n\")"
   ],
   "id": "f12c62cd8392608c",
   "outputs": [],
   "execution_count": null
  },
  {
   "metadata": {},
   "cell_type": "code",
   "source": [
    "\"\"\"while-loop\"\"\"\n",
    "\n",
    "counter = 10\n",
    "\n",
    "while counter > 0:\n",
    "    print(f\"Oh man, still {counter - 1} iterations to go ...\")\n",
    "    counter -= 1  # important to ensure that the loop ends == a terminal condition is met\n",
    "    # break  # we can also use 'break' to exit a loop prematurely or when a condition is met\n"
   ],
   "id": "ddaf37205ccde1ff",
   "outputs": [],
   "execution_count": null
  },
  {
   "metadata": {},
   "cell_type": "markdown",
   "source": "# 5. Errors, Traceback, and Exceptions",
   "id": "d33701ce6a0aeae7"
  },
  {
   "metadata": {},
   "cell_type": "code",
   "source": [
    "# SyntaxError\n",
    "# print(\"Hello World'  # Raises SyntaxError\n",
    "\n",
    "# KeyError\n",
    "# d = {}\n",
    "# print(d[\"non_existing_key\"])  # Raises KeyError\n",
    "\n",
    "# IndexError\n",
    "# lst = []\n",
    "# print(lst[1])  # Raises IndexError\n",
    "\n",
    "# TypeError\n",
    "# x = 5 + \"10\"  # Raises TypeError\n",
    "\n",
    "# ValueError\n",
    "# int(\"Not a number\")  # Raises ValueError\n",
    "\n",
    "# NameError\n",
    "# print(undefined_variable)  # Raises NameError"
   ],
   "id": "966133f7dd673e0b",
   "outputs": [],
   "execution_count": null
  },
  {
   "metadata": {},
   "cell_type": "code",
   "source": [
    "y = 20\n",
    "x = 0\n",
    "\n",
    "try:\n",
    "    z = y / x\n",
    "\n",
    "except ZeroDivisionError as e:\n",
    "    print(\"You tried to divide by zero!\")\n",
    "\n",
    "except TypeError as e:\n",
    "    raise e\n",
    "\n",
    "except Exception as e:  # catch all other exceptions, generally speaking bad practice!\n",
    "    pass  # same as 'do nothing', bad practice!\n",
    "\n",
    "else:\n",
    "    print(\"No error occurred!\")\n",
    "\n",
    "finally:\n",
    "    print(\"This is always executed.\")"
   ],
   "id": "8bd2355e499023e2",
   "outputs": [],
   "execution_count": null
  },
  {
   "metadata": {},
   "cell_type": "markdown",
   "source": "# 6. Packges and Modules\n",
   "id": "fa6a68be5e55534a"
  },
  {
   "metadata": {},
   "cell_type": "code",
   "source": [
    "import requests  # importing a package\n",
    "import numpy as np  # assigning an alias to a package\n",
    "import pandas as pd\n",
    "from matplotlib import pyplot as plt  # importing only a submodule and assigning an alias"
   ],
   "id": "6dcfbbb53396b6ba",
   "outputs": [],
   "execution_count": null
  },
  {
   "metadata": {},
   "cell_type": "markdown",
   "source": "## Loading Data with 'pandas' and 'requests'",
   "id": "343eb6413ea66bf9"
  },
  {
   "metadata": {},
   "cell_type": "code",
   "source": [
    "# using the packages\n",
    "\n",
    "# reading data from a csv file with pandas\n",
    "# consult the package documentation for details: https://pandas.pydata.org/docs/reference/api/pandas.read_csv.html\n",
    "coin_prices = pd.read_csv(\"data/coin_prices.csv\", parse_dates=['time'])\n",
    "print(coin_prices.head())  # pandas creates a very user-friendly pd.DataFrame object which we can take a look at\n",
    "print(coin_prices.dtypes)"
   ],
   "id": "90ab0ba092407774",
   "outputs": [],
   "execution_count": null
  },
  {
   "metadata": {},
   "cell_type": "code",
   "source": [
    "# reading csv data from a web address (Google Drive) from the authors of https://www.openassetpricing.com/\n",
    "# https://drive.google.com/drive/folders/1o74QkDfUfeaDmdE73nJvMQ5vDB5RY-7Y  # public folder, the file id is for \"Size.csv\" \n",
    "os_ap = pd.read_csv(\n",
    "    'https://drive.google.com/uc?id=1Jp0YRCu8KIVae_3-GGscxgY1lB50WMu-',\n",
    "    index_col='date',  # make column 'date' the index\n",
    "    delimiter=',',\n",
    "    skiprows=0,  # default value\n",
    "    usecols=range(1, 5 + 1)  # first 5 columns only\n",
    ")\n",
    "print(os_ap.head())"
   ],
   "id": "69959d6c93258886",
   "outputs": [],
   "execution_count": null
  },
  {
   "metadata": {},
   "cell_type": "code",
   "source": [
    "params = {\n",
    "    'markets':     ['deribit-BTC-11OCT25-114000-C-option'],\n",
    "    'pretty':      True,\n",
    "    'start_time':  '2020-01-01',\n",
    "    'paging_from': 'start',\n",
    "}\n",
    "# https://coverage.coinmetrics.io/markets-v2/deribit-BTC-11OCT25-114000-C-option\n",
    "response = requests.get(\n",
    "    'https://community-api.coinmetrics.io/v4/timeseries/market-contract-prices',\n",
    "    params=params\n",
    ").json()\n",
    "call_prices = pd.DataFrame(response['data'])\n",
    "print(call_prices.head())\n",
    "print(call_prices.dtypes)\n",
    "\n",
    "cols = ['mark_price', 'index_price', 'settlement_price_estimated']\n",
    "date_cols = ['time', 'database_time', 'exchange_time']\n",
    "call_prices[cols] = call_prices[cols].apply(pd.to_numeric)  # convert to numeric type\n",
    "call_prices[date_cols] = call_prices[date_cols].apply(pd.to_datetime)  # convert to datetime objects\n",
    "print(call_prices.dtypes)"
   ],
   "id": "b61986b719d0354d",
   "outputs": [],
   "execution_count": null
  },
  {
   "metadata": {},
   "cell_type": "markdown",
   "source": "## Simple matrix operations with 'numpy'",
   "id": "a708a1663dd9228d"
  },
  {
   "metadata": {},
   "cell_type": "markdown",
   "source": [
    "In quantitative finance, efficient numerical computation is essential. Whether we’re pricing derivatives, estimating risk, or backtesting trading strategies, we often deal with large datasets — prices, returns, or factor exposures — that must be processed quickly. This is where NumPy becomes indispensable.\n",
    "\n",
    "NumPy provides the ndarray, a powerful data structure for numerical operations. Unlike standard Python lists, NumPy arrays are homogeneous and vectorized, meaning operations are executed in compiled C code rather than interpreted Python loops. This leads to massive performance gains, often orders of magnitude faster.\n"
   ],
   "id": "fbabc102978d30d1"
  },
  {
   "metadata": {},
   "cell_type": "code",
   "source": [
    "# simple one-dimensional price vector for a single asset\n",
    "prices = np.array([100, 102, 101, 105])"
   ],
   "id": "959fd0cf9ad01089",
   "outputs": [],
   "execution_count": null
  },
  {
   "metadata": {},
   "cell_type": "code",
   "source": [
    "# random data for simulations\n",
    "returns = np.random.normal(0, 0.01, size=1000)"
   ],
   "id": "c758f861aa4183c5",
   "outputs": [],
   "execution_count": null
  },
  {
   "metadata": {},
   "cell_type": "code",
   "source": [
    "# Arrays can represent vectors, matrices, or higher-dimensional data. For instance, daily prices for 5 assets can be stored as a 2D matrix:\n",
    "# random samples stem from a uniform distribution\n",
    "price_matrix = np.random.rand(252, 5) * 100  # 252 days, 5 assets\n",
    "print(price_matrix)"
   ],
   "id": "a77182cac5020809",
   "outputs": [],
   "execution_count": null
  },
  {
   "metadata": {},
   "cell_type": "code",
   "source": [
    "# We can then compute daily returns efficiently\n",
    "returns = price_matrix[1:] / price_matrix[:-1] - 1\n",
    "print(returns)"
   ],
   "id": "686e770a974343ab",
   "outputs": [],
   "execution_count": null
  },
  {
   "metadata": {},
   "cell_type": "code",
   "source": [
    "# Notice there are no explicit loops — NumPy broadcasts operations across entire arrays. This is the foundation for portfolio-level computations like covariance matrices, betas, or portfolio variance:\n",
    "weights = np.array([0.2, 0.2, 0.2, 0.2, 0.2])  # equal weights\n",
    "cov_matrix = np.cov(returns.T)\n",
    "portfolio_var = weights.T @ cov_matrix @ weights\n",
    "print(f'portfolio variance: {portfolio_var}')"
   ],
   "id": "a3abcb877ed9c3d4",
   "outputs": [],
   "execution_count": null
  },
  {
   "metadata": {},
   "cell_type": "markdown",
   "source": [
    "Find replication portfolio weights given asset prices p and state-contingent payoffs A<br>\n",
    "$w = A^{-1} p$ such that<br>\n",
    "$A w = y$"
   ],
   "id": "aaf274e1df017c94"
  },
  {
   "metadata": {},
   "cell_type": "code",
   "source": [
    "# Example: 3 states, 3 assets\n",
    "A = np.array(\n",
    "    [\n",
    "        [1.05, 0.0, 0.0],  # Asset payoffs in state 1\n",
    "        [1.05, 1.0, 0.5],  # Asset payoffs in state 2\n",
    "        [1.05, 0.5, 1.0]  # Asset payoffs in state 3\n",
    "    ]\n",
    ")  # shape (3,3)\n",
    "\n",
    "p = np.array([1, 0.90, 0.95])  # asset prices\n",
    "y = np.array([1.05, 1.3, 1.2])  # desired state payoff vector (e.g., payoff=1 in state1 only)\n",
    "\n",
    "# 1) Exact replication (if A is square and invertible)\n",
    "if A.shape[0] == A.shape[1] and np.linalg.matrix_rank(A) == A.shape[0]:\n",
    "    w_exact = np.linalg.inv(A) @ y\n",
    "    cost_exact = p @ w_exact\n",
    "    print(\"Exact replication weights:\", w_exact)\n",
    "    print(\"Cost (exact):\", cost_exact)\n",
    "else:\n",
    "    print(\"Exact replication not available (A not square/full-rank).\")\n",
    "\n",
    "# 2) Least-squares / pseudoinverse (minimum-norm solution that best matches y, say more states than assets)\n",
    "w_pinv = np.linalg.pinv(A) @ y\n",
    "residual = A @ w_pinv - y\n",
    "cost_pinv = p @ w_pinv\n",
    "print(\"\\nPseudoinverse (least-squares) weights:\", w_pinv)\n",
    "print(\"Residual (A w - y):\", residual)\n",
    "print(\"Cost (p @ w):\", cost_pinv)"
   ],
   "id": "e885a944871ee8df",
   "outputs": [],
   "execution_count": null
  },
  {
   "metadata": {},
   "cell_type": "markdown",
   "source": "Some more methods and operations with numpy:",
   "id": "cf18bc581c36d772"
  },
  {
   "metadata": {},
   "cell_type": "code",
   "source": [
    "A = np.array([[1, 2], [3, 4]])\n",
    "b = np.array([[1, 2], [3, 4]])\n",
    "\n",
    "np.zeros((2, 3))  # 2 rows, 3 columns\n",
    "np.identity(3)  # 3x3 identity matrix\n",
    "np.diag([1, 2, 3])  # diagonal matrix with 1,2,3 on the diagonal\n",
    "\n",
    "print(A + b)  # matrix addition\n",
    "print(A * b)  # element-wise multiplication\n",
    "print(A @ b)  # matrix multiplication\n",
    "print(np.linalg.inv(A))  # matrix inversion\n",
    "print(np.linalg.det(A))  # determinant"
   ],
   "id": "13ba8a90ef82cd0",
   "outputs": [],
   "execution_count": null
  },
  {
   "metadata": {},
   "cell_type": "markdown",
   "source": "## Visualizations with 'matplotlib'",
   "id": "57dc0e3fcb6c2032"
  },
  {
   "metadata": {},
   "cell_type": "code",
   "source": "call_prices.set_index('time')['mark_price'].plot(title='Call Option Prices over Time')",
   "id": "e873101e0153d1a9",
   "outputs": [],
   "execution_count": null
  },
  {
   "metadata": {},
   "cell_type": "code",
   "source": [
    "# Plot multiple time series\n",
    "coins = ['btc', 'eth', 'ltc', 'xrp']\n",
    "cprice = coin_prices.pivot(\n",
    "        index='time', values='ReferenceRateUSD', columns='asset'\n",
    "    )[coins]\n",
    "lines = plt.plot(cprice)\n",
    "plt.title('Cryptocurrency Prices over Time')\n",
    "plt.ylabel('USD Price')\n",
    "plt.legend(coins)\n",
    "plt.grid()"
   ],
   "id": "af42052968772dd2",
   "outputs": [],
   "execution_count": null
  },
  {
   "metadata": {},
   "cell_type": "code",
   "source": [
    "# Creating a Figure with subplots and axes\n",
    "fig, axs = plt.subplots(ncols=2, nrows=2, figsize=(10, 6))"
   ],
   "id": "f5a9261d9497d2e2",
   "outputs": [],
   "execution_count": null
  },
  {
   "metadata": {},
   "cell_type": "code",
   "source": "# access and fill the subplots ...\n",
   "id": "4ac136f846a13dac",
   "outputs": [],
   "execution_count": null
  },
  {
   "metadata": {},
   "cell_type": "markdown",
   "source": "There are many options that can be explored! Consider the examples in the gallery: https://matplotlib.org/stable/gallery/index.html",
   "id": "9deb0cd5bf44fcc9"
  }
 ],
 "metadata": {
  "kernelspec": {
   "display_name": "Python 3",
   "language": "python",
   "name": "python3"
  },
  "language_info": {
   "codemirror_mode": {
    "name": "ipython",
    "version": 2
   },
   "file_extension": ".py",
   "mimetype": "text/x-python",
   "name": "python",
   "nbconvert_exporter": "python",
   "pygments_lexer": "ipython2",
   "version": "2.7.6"
  }
 },
 "nbformat": 4,
 "nbformat_minor": 5
}
