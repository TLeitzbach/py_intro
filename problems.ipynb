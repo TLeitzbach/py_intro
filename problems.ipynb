{
 "cells": [
  {
   "cell_type": "markdown",
   "id": "5490c8a2f3564deb",
   "metadata": {},
   "source": [
    "# Hands-on Problems  "
   ]
  },
  {
   "cell_type": "markdown",
   "id": "2e17cfd711d38a6f",
   "metadata": {},
   "source": [
    "The following problems are designed to help you practice and reinforce your understanding of the concepts covered in this session. Each problem includes a brief description and a set of tasks to complete. A solution is provided for each problem to help you verify your work.\n",
    "Depending on your prior knowledge you can head straight to the **Advanced** section. \n",
    "If you are stuck, consult your colleagues first or try to find the solution online before looking at the solutions below. This mimicks real life secnarios best!\n",
    "\n",
    "[Jump to advanced problems](#Advanced)"
   ]
  },
  {
   "cell_type": "markdown",
   "id": "1a8314442c0f911d",
   "metadata": {},
   "source": [
    "## Beginner "
   ]
  },
  {
   "cell_type": "code",
   "id": "ccaef28f4b83a7b7",
   "metadata": {},
   "source": [
    "# 1 Data Types & Conversion\n",
    "# Add a string and an integer correctly.\n",
    "x = 100\n",
    "y = \"25\"\n",
    "# result = "
   ],
   "outputs": [],
   "execution_count": null
  },
  {
   "cell_type": "code",
   "id": "293532ae9f773d4b",
   "metadata": {},
   "source": [
    "# 2 String Patterns\n",
    "# Extract the prefix from each file of the list to another list\n",
    "files = ['size_3.csv', 'value_3.csv', 'mom_3.csv', 'hml_5.csv']"
   ],
   "outputs": [],
   "execution_count": null
  },
  {
   "cell_type": "code",
   "id": "17169f2be53706fd",
   "metadata": {},
   "source": [
    "# 3 List Manipulation\n",
    "# reverse the order of the list, then add two arbitrary elements as first and last element \n",
    "courses = [\"Derivatives 1\", \"Derivatives 3\", \"Modern Methods in Empirical Asset Pricing\"]"
   ],
   "outputs": [],
   "execution_count": null
  },
  {
   "cell_type": "code",
   "id": "bd485839f3e1d851",
   "metadata": {},
   "source": [
    "# 4 Dictionary Practice\n",
    "# create a dictionary with the values being the elements of the list and the keys being the index of the elements. Access and print the value of a specific index\n",
    "l = ['a', 'b', 'c', 'd', 'e']"
   ],
   "outputs": [],
   "execution_count": null
  },
  {
   "cell_type": "code",
   "id": "a6daa106493d5dc2",
   "metadata": {},
   "source": [
    "# 5 Fix all mistakes in the code below\n",
    "i = 1\n",
    " while i < 6:\n",
    "  prnt(i)\n",
    "  i = 1"
   ],
   "outputs": [],
   "execution_count": null
  },
  {
   "cell_type": "code",
   "id": "2bd70f8d29520006",
   "metadata": {},
   "source": "# 6",
   "outputs": [],
   "execution_count": null
  },
  {
   "cell_type": "code",
   "id": "1259c7eac0d083a4",
   "metadata": {},
   "source": "# 7",
   "outputs": [],
   "execution_count": null
  },
  {
   "cell_type": "code",
   "id": "1bc766c7d4a0fa99",
   "metadata": {},
   "source": [
    "# 8\n",
    "# \n"
   ],
   "outputs": [],
   "execution_count": null
  },
  {
   "cell_type": "markdown",
   "id": "6f4fb995-a473-48fa-b3e0-28e89fb03e3a",
   "metadata": {},
   "source": [
    "[Jump to the solutions](#Solutions)"
   ]
  },
  {
   "cell_type": "markdown",
   "id": "2b26ab07388b4ed",
   "metadata": {},
   "source": "## Advanced"
  },
  {
   "cell_type": "code",
   "id": "98a1fccd76f6ae6e",
   "metadata": {},
   "source": [
    "# 1 Functions and Call Payoff\n",
    "# Fix the function below and call it with strike 50 and spot prices ranging from 0 to 100\n",
    "from matplotlib import pyplot as plt\n",
    "\n",
    "\n",
    " def my_call_payoff(strike: float, spot: list):\n",
    "    \"\"\"Plots the payoff of a European Call option given strike and spot price at maturity.\"\"\"\n",
    "    payoff = []\n",
    "    for s in spot\n",
    "        payoff.append(max(s - strike, 0))  # max is a built-in function\n",
    "    plt.plot(spot payoff)\n",
    "    plt.xlabel(\"Spot Price at Maturity\")\n",
    "    plt.ylabel(\"Call Option Payoff\")\n",
    "    plt.title(f\"European Call Option Payoff (K={strike})\")\n",
    "    plt.grid()\n",
    "    pt.show()\n"
   ],
   "outputs": [],
   "execution_count": null
  },
  {
   "metadata": {},
   "cell_type": "code",
   "source": "# 2 Write and call a similar function for european Put options, consider including a premium / option price parameter",
   "id": "cd2db46db524c92d",
   "outputs": [],
   "execution_count": null
  },
  {
   "cell_type": "code",
   "id": "f22b9ec336b6121e",
   "metadata": {},
   "source": [
    "# 3 OLS Regression\n",
    "#\n"
   ],
   "outputs": [],
   "execution_count": null
  },
  {
   "cell_type": "markdown",
   "id": "d2acaffc47645749",
   "metadata": {},
   "source": "## Solutions"
  },
  {
   "cell_type": "markdown",
   "id": "779ca3ccc9c29393",
   "metadata": {},
   "source": [
    "### Beginners"
   ]
  },
  {
   "cell_type": "code",
   "id": "a7170b1e7f10cae7",
   "metadata": {},
   "source": [
    "# 1\n",
    "result = 100 + int(\"25\")\n",
    "\n",
    "# 2\n",
    "files2 = [f.split('_')[0] for f in ['size_3.csv', 'value_3.csv', 'mom_3.csv', 'hml_5.csv']]\n",
    "\n",
    "# 3\n",
    "courses = reversed([\"Derivatives 1\", \"Derivatives 3\", \"Modern Methods in Empirical Asset Pricing\"]) # courses[::-1]\n",
    "courses = [\"Intro to Finance\"] + list(courses) + [\"Advanced Finance\"]\n",
    "\n",
    "# 4\n",
    "l = ['a', 'b', 'c', 'd', 'e']\n",
    "k = {i: l[i] for i in range(len(l))}\n",
    "print(k[1])\n",
    "\n",
    "# 5\n",
    "i = 1\n",
    "while i < 6:\n",
    "  print(i)\n",
    "  i += 1\n",
    "\n",
    "# 6"
   ],
   "outputs": [],
   "execution_count": null
  },
  {
   "cell_type": "markdown",
   "id": "c248cdc3d3b365b1",
   "metadata": {},
   "source": [
    "### Advanced"
   ]
  },
  {
   "cell_type": "code",
   "id": "662741a4-409b-4b6c-8634-9eb4528e8af2",
   "metadata": {},
   "source": [
    "# 1 \n",
    "from matplotlib import pyplot as plt\n",
    "\n",
    "\n",
    "def my_call_payoff(strike: float, spot: list):\n",
    "    \"\"\" Plots the payoff of a European Call option given strike and spot price at maturity.\"\"\"\n",
    "    payoff = []\n",
    "    for s in spot:\n",
    "        payoff.append(max(s - strike, 0))  # max is a built-in function\n",
    "    plt.plot(spot, payoff)\n",
    "    plt.xlabel(\"Spot Price at Maturity\")\n",
    "    plt.ylabel(\"Call Option Payoff\")\n",
    "    plt.title(f\"European Call Option Payoff (K={strike})\")\n",
    "    plt.grid()\n",
    "    plt.show()\n",
    "    \n",
    "    \n",
    "my_call_payoff(50, range(101))\n"
   ],
   "outputs": [],
   "execution_count": null
  },
  {
   "metadata": {},
   "cell_type": "code",
   "source": [
    "# 2 \n",
    "def my_put_payoff(strike: float, spot: list, premium: float = 0):\n",
    "    \"\"\" Plots the payoff of a European Put option given strike and spot price at maturity.\"\"\"\n",
    "    payoff = []\n",
    "    for s in spot:\n",
    "        payoff.append(max(strike - s, 0) - premium)  # max is a built-in function\n",
    "    plt.plot(spot, payoff)\n",
    "    plt.xlabel(\"Spot Price at Maturity\")\n",
    "    plt.ylabel(\"Put Option Payoff\")\n",
    "    plt.title(f\"European Put Option Payoff (K={strike}){f' with premium {premium}' if premium !=0 else ''}\")\n",
    "    plt.grid()\n",
    "    plt.show()\n",
    "\n",
    "\n",
    "my_put_payoff(100, range(50, 151), premium=5)"
   ],
   "id": "59a61c4794ac659e",
   "outputs": [],
   "execution_count": null
  },
  {
   "metadata": {},
   "cell_type": "code",
   "outputs": [],
   "execution_count": null,
   "source": [
    "# 3\n",
    "\n"
   ],
   "id": "f643a1518ccf6275"
  },
  {
   "cell_type": "markdown",
   "id": "3610ef41-5840-41ae-af08-a514b95a3072",
   "metadata": {},
   "source": [
    "[Jump to top](#Hands-on-Problems)"
   ]
  }
 ],
 "metadata": {
  "kernelspec": {
   "display_name": "Python 3 (ipykernel)",
   "language": "python",
   "name": "python3"
  },
  "language_info": {
   "codemirror_mode": {
    "name": "ipython",
    "version": 3
   },
   "file_extension": ".py",
   "mimetype": "text/x-python",
   "name": "python",
   "nbconvert_exporter": "python",
   "pygments_lexer": "ipython3",
   "version": "3.10.7"
  }
 },
 "nbformat": 4,
 "nbformat_minor": 5
}
